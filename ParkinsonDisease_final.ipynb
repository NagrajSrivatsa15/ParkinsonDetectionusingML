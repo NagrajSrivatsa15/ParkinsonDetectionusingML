{
  "nbformat": 4,
  "nbformat_minor": 0,
  "metadata": {
    "colab": {
      "name": "ParkinsonDisease_final.ipynb",
      "provenance": [],
      "collapsed_sections": [],
      "authorship_tag": "ABX9TyNN2/ywgplnnaP2/zNh5PUl",
      "include_colab_link": true
    },
    "kernelspec": {
      "name": "python3",
      "display_name": "Python 3"
    },
    "language_info": {
      "name": "python"
    }
  },
  "cells": [
    {
      "cell_type": "markdown",
      "metadata": {
        "id": "view-in-github",
        "colab_type": "text"
      },
      "source": [
        "<a href=\"https://colab.research.google.com/github/NagrajSrivatsa15/ParkinsonDetectionusingML/blob/main/ParkinsonDisease_final.ipynb\" target=\"_parent\"><img src=\"https://colab.research.google.com/assets/colab-badge.svg\" alt=\"Open In Colab\"/></a>"
      ]
    },
    {
      "cell_type": "markdown",
      "metadata": {
        "id": "Pre6Y2nY6xO5"
      },
      "source": [
        "#Importing Dependencies"
      ]
    },
    {
      "cell_type": "code",
      "metadata": {
        "id": "ZgcNRwGh61WO"
      },
      "source": [
        "#imported for arrays\n",
        "import numpy as np\n",
        "#creatiung daata frames\n",
        "import pandas as pd\n",
        "#spliting data\n",
        "from sklearn.model_selection import train_test_split\n",
        "#data preprocessing\n",
        "from sklearn.preprocessing import StandardScaler\n",
        "#Support Vector machine\n",
        "from sklearn import svm\n",
        "import seaborn as sns\n",
        "#model Evaluation\n",
        "from sklearn.metrics import accuracy_score\n",
        "from sklearn.metrics import classification_report,confusion_matrix\n",
        "from sklearn.model_selection import cross_val_score"
      ],
      "execution_count": 1,
      "outputs": []
    },
    {
      "cell_type": "markdown",
      "metadata": {
        "id": "skjx0eXc68-f"
      },
      "source": [
        "#Dataset Collection "
      ]
    },
    {
      "cell_type": "code",
      "metadata": {
        "colab": {
          "base_uri": "https://localhost:8080/",
          "height": 222
        },
        "id": "nbIz0RCD7BH4",
        "outputId": "9578c1fe-7368-43f2-dc4f-387f985059f6"
      },
      "source": [
        "ParkinsonDataset=pd.read_csv('/content/ParkinsonDiseaseDataset.csv')\n",
        "#printing the first 5 rows of dataframe\n",
        "ParkinsonDataset.head()"
      ],
      "execution_count": 2,
      "outputs": [
        {
          "output_type": "execute_result",
          "data": {
            "text/html": [
              "<div>\n",
              "<style scoped>\n",
              "    .dataframe tbody tr th:only-of-type {\n",
              "        vertical-align: middle;\n",
              "    }\n",
              "\n",
              "    .dataframe tbody tr th {\n",
              "        vertical-align: top;\n",
              "    }\n",
              "\n",
              "    .dataframe thead th {\n",
              "        text-align: right;\n",
              "    }\n",
              "</style>\n",
              "<table border=\"1\" class=\"dataframe\">\n",
              "  <thead>\n",
              "    <tr style=\"text-align: right;\">\n",
              "      <th></th>\n",
              "      <th>name</th>\n",
              "      <th>MDVP:Fo(Hz)</th>\n",
              "      <th>MDVP:Fhi(Hz)</th>\n",
              "      <th>MDVP:Flo(Hz)</th>\n",
              "      <th>MDVP:Jitter(%)</th>\n",
              "      <th>MDVP:Jitter(Abs)</th>\n",
              "      <th>MDVP:RAP</th>\n",
              "      <th>MDVP:PPQ</th>\n",
              "      <th>Jitter:DDP</th>\n",
              "      <th>MDVP:Shimmer</th>\n",
              "      <th>MDVP:Shimmer(dB)</th>\n",
              "      <th>Shimmer:APQ3</th>\n",
              "      <th>Shimmer:APQ5</th>\n",
              "      <th>MDVP:APQ</th>\n",
              "      <th>Shimmer:DDA</th>\n",
              "      <th>NHR</th>\n",
              "      <th>HNR</th>\n",
              "      <th>status</th>\n",
              "      <th>RPDE</th>\n",
              "      <th>DFA</th>\n",
              "      <th>spread1</th>\n",
              "      <th>spread2</th>\n",
              "      <th>D2</th>\n",
              "      <th>PPE</th>\n",
              "    </tr>\n",
              "  </thead>\n",
              "  <tbody>\n",
              "    <tr>\n",
              "      <th>0</th>\n",
              "      <td>phon_R01_S01_1</td>\n",
              "      <td>119.992</td>\n",
              "      <td>157.302</td>\n",
              "      <td>74.997</td>\n",
              "      <td>0.00784</td>\n",
              "      <td>0.00007</td>\n",
              "      <td>0.00370</td>\n",
              "      <td>0.00554</td>\n",
              "      <td>0.01109</td>\n",
              "      <td>0.04374</td>\n",
              "      <td>0.426</td>\n",
              "      <td>0.02182</td>\n",
              "      <td>0.03130</td>\n",
              "      <td>0.02971</td>\n",
              "      <td>0.06545</td>\n",
              "      <td>0.02211</td>\n",
              "      <td>21.033</td>\n",
              "      <td>1</td>\n",
              "      <td>0.414783</td>\n",
              "      <td>0.815285</td>\n",
              "      <td>-4.813031</td>\n",
              "      <td>0.266482</td>\n",
              "      <td>2.301442</td>\n",
              "      <td>0.284654</td>\n",
              "    </tr>\n",
              "    <tr>\n",
              "      <th>1</th>\n",
              "      <td>phon_R01_S01_2</td>\n",
              "      <td>122.400</td>\n",
              "      <td>148.650</td>\n",
              "      <td>113.819</td>\n",
              "      <td>0.00968</td>\n",
              "      <td>0.00008</td>\n",
              "      <td>0.00465</td>\n",
              "      <td>0.00696</td>\n",
              "      <td>0.01394</td>\n",
              "      <td>0.06134</td>\n",
              "      <td>0.626</td>\n",
              "      <td>0.03134</td>\n",
              "      <td>0.04518</td>\n",
              "      <td>0.04368</td>\n",
              "      <td>0.09403</td>\n",
              "      <td>0.01929</td>\n",
              "      <td>19.085</td>\n",
              "      <td>1</td>\n",
              "      <td>0.458359</td>\n",
              "      <td>0.819521</td>\n",
              "      <td>-4.075192</td>\n",
              "      <td>0.335590</td>\n",
              "      <td>2.486855</td>\n",
              "      <td>0.368674</td>\n",
              "    </tr>\n",
              "    <tr>\n",
              "      <th>2</th>\n",
              "      <td>phon_R01_S01_3</td>\n",
              "      <td>116.682</td>\n",
              "      <td>131.111</td>\n",
              "      <td>111.555</td>\n",
              "      <td>0.01050</td>\n",
              "      <td>0.00009</td>\n",
              "      <td>0.00544</td>\n",
              "      <td>0.00781</td>\n",
              "      <td>0.01633</td>\n",
              "      <td>0.05233</td>\n",
              "      <td>0.482</td>\n",
              "      <td>0.02757</td>\n",
              "      <td>0.03858</td>\n",
              "      <td>0.03590</td>\n",
              "      <td>0.08270</td>\n",
              "      <td>0.01309</td>\n",
              "      <td>20.651</td>\n",
              "      <td>1</td>\n",
              "      <td>0.429895</td>\n",
              "      <td>0.825288</td>\n",
              "      <td>-4.443179</td>\n",
              "      <td>0.311173</td>\n",
              "      <td>2.342259</td>\n",
              "      <td>0.332634</td>\n",
              "    </tr>\n",
              "    <tr>\n",
              "      <th>3</th>\n",
              "      <td>phon_R01_S01_4</td>\n",
              "      <td>116.676</td>\n",
              "      <td>137.871</td>\n",
              "      <td>111.366</td>\n",
              "      <td>0.00997</td>\n",
              "      <td>0.00009</td>\n",
              "      <td>0.00502</td>\n",
              "      <td>0.00698</td>\n",
              "      <td>0.01505</td>\n",
              "      <td>0.05492</td>\n",
              "      <td>0.517</td>\n",
              "      <td>0.02924</td>\n",
              "      <td>0.04005</td>\n",
              "      <td>0.03772</td>\n",
              "      <td>0.08771</td>\n",
              "      <td>0.01353</td>\n",
              "      <td>20.644</td>\n",
              "      <td>1</td>\n",
              "      <td>0.434969</td>\n",
              "      <td>0.819235</td>\n",
              "      <td>-4.117501</td>\n",
              "      <td>0.334147</td>\n",
              "      <td>2.405554</td>\n",
              "      <td>0.368975</td>\n",
              "    </tr>\n",
              "    <tr>\n",
              "      <th>4</th>\n",
              "      <td>phon_R01_S01_5</td>\n",
              "      <td>116.014</td>\n",
              "      <td>141.781</td>\n",
              "      <td>110.655</td>\n",
              "      <td>0.01284</td>\n",
              "      <td>0.00011</td>\n",
              "      <td>0.00655</td>\n",
              "      <td>0.00908</td>\n",
              "      <td>0.01966</td>\n",
              "      <td>0.06425</td>\n",
              "      <td>0.584</td>\n",
              "      <td>0.03490</td>\n",
              "      <td>0.04825</td>\n",
              "      <td>0.04465</td>\n",
              "      <td>0.10470</td>\n",
              "      <td>0.01767</td>\n",
              "      <td>19.649</td>\n",
              "      <td>1</td>\n",
              "      <td>0.417356</td>\n",
              "      <td>0.823484</td>\n",
              "      <td>-3.747787</td>\n",
              "      <td>0.234513</td>\n",
              "      <td>2.332180</td>\n",
              "      <td>0.410335</td>\n",
              "    </tr>\n",
              "  </tbody>\n",
              "</table>\n",
              "</div>"
            ],
            "text/plain": [
              "             name  MDVP:Fo(Hz)  MDVP:Fhi(Hz)  ...   spread2        D2       PPE\n",
              "0  phon_R01_S01_1      119.992       157.302  ...  0.266482  2.301442  0.284654\n",
              "1  phon_R01_S01_2      122.400       148.650  ...  0.335590  2.486855  0.368674\n",
              "2  phon_R01_S01_3      116.682       131.111  ...  0.311173  2.342259  0.332634\n",
              "3  phon_R01_S01_4      116.676       137.871  ...  0.334147  2.405554  0.368975\n",
              "4  phon_R01_S01_5      116.014       141.781  ...  0.234513  2.332180  0.410335\n",
              "\n",
              "[5 rows x 24 columns]"
            ]
          },
          "metadata": {
            "tags": []
          },
          "execution_count": 2
        }
      ]
    },
    {
      "cell_type": "markdown",
      "metadata": {
        "id": "qbFyuOGM7E5A"
      },
      "source": [
        "#Checking Number of rows and columns in the datset"
      ]
    },
    {
      "cell_type": "code",
      "metadata": {
        "colab": {
          "base_uri": "https://localhost:8080/"
        },
        "id": "JP8DEVuA7MyA",
        "outputId": "36fc4404-7832-42d1-df31-4a8b64a51eb6"
      },
      "source": [
        "ParkinsonDataset.shape"
      ],
      "execution_count": 3,
      "outputs": [
        {
          "output_type": "execute_result",
          "data": {
            "text/plain": [
              "(195, 24)"
            ]
          },
          "metadata": {
            "tags": []
          },
          "execution_count": 3
        }
      ]
    },
    {
      "cell_type": "markdown",
      "metadata": {
        "id": "_uGMLvKd83Wk"
      },
      "source": [
        "#Information about the dataset"
      ]
    },
    {
      "cell_type": "code",
      "metadata": {
        "colab": {
          "base_uri": "https://localhost:8080/"
        },
        "id": "kSOSnnMX86Wv",
        "outputId": "4e2ffd22-ee5b-4151-e628-bf89a13d763b"
      },
      "source": [
        "ParkinsonDataset.info()"
      ],
      "execution_count": 4,
      "outputs": [
        {
          "output_type": "stream",
          "text": [
            "<class 'pandas.core.frame.DataFrame'>\n",
            "RangeIndex: 195 entries, 0 to 194\n",
            "Data columns (total 24 columns):\n",
            " #   Column            Non-Null Count  Dtype  \n",
            "---  ------            --------------  -----  \n",
            " 0   name              195 non-null    object \n",
            " 1   MDVP:Fo(Hz)       195 non-null    float64\n",
            " 2   MDVP:Fhi(Hz)      195 non-null    float64\n",
            " 3   MDVP:Flo(Hz)      195 non-null    float64\n",
            " 4   MDVP:Jitter(%)    195 non-null    float64\n",
            " 5   MDVP:Jitter(Abs)  195 non-null    float64\n",
            " 6   MDVP:RAP          195 non-null    float64\n",
            " 7   MDVP:PPQ          195 non-null    float64\n",
            " 8   Jitter:DDP        195 non-null    float64\n",
            " 9   MDVP:Shimmer      195 non-null    float64\n",
            " 10  MDVP:Shimmer(dB)  195 non-null    float64\n",
            " 11  Shimmer:APQ3      195 non-null    float64\n",
            " 12  Shimmer:APQ5      195 non-null    float64\n",
            " 13  MDVP:APQ          195 non-null    float64\n",
            " 14  Shimmer:DDA       195 non-null    float64\n",
            " 15  NHR               195 non-null    float64\n",
            " 16  HNR               195 non-null    float64\n",
            " 17  status            195 non-null    int64  \n",
            " 18  RPDE              195 non-null    float64\n",
            " 19  DFA               195 non-null    float64\n",
            " 20  spread1           195 non-null    float64\n",
            " 21  spread2           195 non-null    float64\n",
            " 22  D2                195 non-null    float64\n",
            " 23  PPE               195 non-null    float64\n",
            "dtypes: float64(22), int64(1), object(1)\n",
            "memory usage: 36.7+ KB\n"
          ],
          "name": "stdout"
        }
      ]
    },
    {
      "cell_type": "markdown",
      "metadata": {
        "id": "s82nuwg69IRO"
      },
      "source": [
        "#Finding all the columns"
      ]
    },
    {
      "cell_type": "code",
      "metadata": {
        "colab": {
          "base_uri": "https://localhost:8080/"
        },
        "id": "71Srp81A9LCA",
        "outputId": "e75c282e-ecce-47a0-967f-56af077bfc18"
      },
      "source": [
        "ParkinsonDataset.columns"
      ],
      "execution_count": 5,
      "outputs": [
        {
          "output_type": "execute_result",
          "data": {
            "text/plain": [
              "Index(['name', 'MDVP:Fo(Hz)', 'MDVP:Fhi(Hz)', 'MDVP:Flo(Hz)', 'MDVP:Jitter(%)',\n",
              "       'MDVP:Jitter(Abs)', 'MDVP:RAP', 'MDVP:PPQ', 'Jitter:DDP',\n",
              "       'MDVP:Shimmer', 'MDVP:Shimmer(dB)', 'Shimmer:APQ3', 'Shimmer:APQ5',\n",
              "       'MDVP:APQ', 'Shimmer:DDA', 'NHR', 'HNR', 'status', 'RPDE', 'DFA',\n",
              "       'spread1', 'spread2', 'D2', 'PPE'],\n",
              "      dtype='object')"
            ]
          },
          "metadata": {
            "tags": []
          },
          "execution_count": 5
        }
      ]
    },
    {
      "cell_type": "code",
      "metadata": {
        "colab": {
          "base_uri": "https://localhost:8080/",
          "height": 314
        },
        "id": "or0SUf3Rd2rY",
        "outputId": "ad508b3b-0014-4df7-f5be-5a058e05147f"
      },
      "source": [
        "ParkinsonDataset.describe()"
      ],
      "execution_count": 6,
      "outputs": [
        {
          "output_type": "execute_result",
          "data": {
            "text/html": [
              "<div>\n",
              "<style scoped>\n",
              "    .dataframe tbody tr th:only-of-type {\n",
              "        vertical-align: middle;\n",
              "    }\n",
              "\n",
              "    .dataframe tbody tr th {\n",
              "        vertical-align: top;\n",
              "    }\n",
              "\n",
              "    .dataframe thead th {\n",
              "        text-align: right;\n",
              "    }\n",
              "</style>\n",
              "<table border=\"1\" class=\"dataframe\">\n",
              "  <thead>\n",
              "    <tr style=\"text-align: right;\">\n",
              "      <th></th>\n",
              "      <th>MDVP:Fo(Hz)</th>\n",
              "      <th>MDVP:Fhi(Hz)</th>\n",
              "      <th>MDVP:Flo(Hz)</th>\n",
              "      <th>MDVP:Jitter(%)</th>\n",
              "      <th>MDVP:Jitter(Abs)</th>\n",
              "      <th>MDVP:RAP</th>\n",
              "      <th>MDVP:PPQ</th>\n",
              "      <th>Jitter:DDP</th>\n",
              "      <th>MDVP:Shimmer</th>\n",
              "      <th>MDVP:Shimmer(dB)</th>\n",
              "      <th>Shimmer:APQ3</th>\n",
              "      <th>Shimmer:APQ5</th>\n",
              "      <th>MDVP:APQ</th>\n",
              "      <th>Shimmer:DDA</th>\n",
              "      <th>NHR</th>\n",
              "      <th>HNR</th>\n",
              "      <th>status</th>\n",
              "      <th>RPDE</th>\n",
              "      <th>DFA</th>\n",
              "      <th>spread1</th>\n",
              "      <th>spread2</th>\n",
              "      <th>D2</th>\n",
              "      <th>PPE</th>\n",
              "    </tr>\n",
              "  </thead>\n",
              "  <tbody>\n",
              "    <tr>\n",
              "      <th>count</th>\n",
              "      <td>195.000000</td>\n",
              "      <td>195.000000</td>\n",
              "      <td>195.000000</td>\n",
              "      <td>195.000000</td>\n",
              "      <td>195.000000</td>\n",
              "      <td>195.000000</td>\n",
              "      <td>195.000000</td>\n",
              "      <td>195.000000</td>\n",
              "      <td>195.000000</td>\n",
              "      <td>195.000000</td>\n",
              "      <td>195.000000</td>\n",
              "      <td>195.000000</td>\n",
              "      <td>195.000000</td>\n",
              "      <td>195.000000</td>\n",
              "      <td>195.000000</td>\n",
              "      <td>195.000000</td>\n",
              "      <td>195.000000</td>\n",
              "      <td>195.000000</td>\n",
              "      <td>195.000000</td>\n",
              "      <td>195.000000</td>\n",
              "      <td>195.000000</td>\n",
              "      <td>195.000000</td>\n",
              "      <td>195.000000</td>\n",
              "    </tr>\n",
              "    <tr>\n",
              "      <th>mean</th>\n",
              "      <td>154.228641</td>\n",
              "      <td>197.104918</td>\n",
              "      <td>116.324631</td>\n",
              "      <td>0.006220</td>\n",
              "      <td>0.000044</td>\n",
              "      <td>0.003306</td>\n",
              "      <td>0.003446</td>\n",
              "      <td>0.009920</td>\n",
              "      <td>0.029709</td>\n",
              "      <td>0.282251</td>\n",
              "      <td>0.015664</td>\n",
              "      <td>0.017878</td>\n",
              "      <td>0.024081</td>\n",
              "      <td>0.046993</td>\n",
              "      <td>0.024847</td>\n",
              "      <td>21.885974</td>\n",
              "      <td>0.753846</td>\n",
              "      <td>0.498536</td>\n",
              "      <td>0.718099</td>\n",
              "      <td>-5.684397</td>\n",
              "      <td>0.226510</td>\n",
              "      <td>2.381826</td>\n",
              "      <td>0.206552</td>\n",
              "    </tr>\n",
              "    <tr>\n",
              "      <th>std</th>\n",
              "      <td>41.390065</td>\n",
              "      <td>91.491548</td>\n",
              "      <td>43.521413</td>\n",
              "      <td>0.004848</td>\n",
              "      <td>0.000035</td>\n",
              "      <td>0.002968</td>\n",
              "      <td>0.002759</td>\n",
              "      <td>0.008903</td>\n",
              "      <td>0.018857</td>\n",
              "      <td>0.194877</td>\n",
              "      <td>0.010153</td>\n",
              "      <td>0.012024</td>\n",
              "      <td>0.016947</td>\n",
              "      <td>0.030459</td>\n",
              "      <td>0.040418</td>\n",
              "      <td>4.425764</td>\n",
              "      <td>0.431878</td>\n",
              "      <td>0.103942</td>\n",
              "      <td>0.055336</td>\n",
              "      <td>1.090208</td>\n",
              "      <td>0.083406</td>\n",
              "      <td>0.382799</td>\n",
              "      <td>0.090119</td>\n",
              "    </tr>\n",
              "    <tr>\n",
              "      <th>min</th>\n",
              "      <td>88.333000</td>\n",
              "      <td>102.145000</td>\n",
              "      <td>65.476000</td>\n",
              "      <td>0.001680</td>\n",
              "      <td>0.000007</td>\n",
              "      <td>0.000680</td>\n",
              "      <td>0.000920</td>\n",
              "      <td>0.002040</td>\n",
              "      <td>0.009540</td>\n",
              "      <td>0.085000</td>\n",
              "      <td>0.004550</td>\n",
              "      <td>0.005700</td>\n",
              "      <td>0.007190</td>\n",
              "      <td>0.013640</td>\n",
              "      <td>0.000650</td>\n",
              "      <td>8.441000</td>\n",
              "      <td>0.000000</td>\n",
              "      <td>0.256570</td>\n",
              "      <td>0.574282</td>\n",
              "      <td>-7.964984</td>\n",
              "      <td>0.006274</td>\n",
              "      <td>1.423287</td>\n",
              "      <td>0.044539</td>\n",
              "    </tr>\n",
              "    <tr>\n",
              "      <th>25%</th>\n",
              "      <td>117.572000</td>\n",
              "      <td>134.862500</td>\n",
              "      <td>84.291000</td>\n",
              "      <td>0.003460</td>\n",
              "      <td>0.000020</td>\n",
              "      <td>0.001660</td>\n",
              "      <td>0.001860</td>\n",
              "      <td>0.004985</td>\n",
              "      <td>0.016505</td>\n",
              "      <td>0.148500</td>\n",
              "      <td>0.008245</td>\n",
              "      <td>0.009580</td>\n",
              "      <td>0.013080</td>\n",
              "      <td>0.024735</td>\n",
              "      <td>0.005925</td>\n",
              "      <td>19.198000</td>\n",
              "      <td>1.000000</td>\n",
              "      <td>0.421306</td>\n",
              "      <td>0.674758</td>\n",
              "      <td>-6.450096</td>\n",
              "      <td>0.174351</td>\n",
              "      <td>2.099125</td>\n",
              "      <td>0.137451</td>\n",
              "    </tr>\n",
              "    <tr>\n",
              "      <th>50%</th>\n",
              "      <td>148.790000</td>\n",
              "      <td>175.829000</td>\n",
              "      <td>104.315000</td>\n",
              "      <td>0.004940</td>\n",
              "      <td>0.000030</td>\n",
              "      <td>0.002500</td>\n",
              "      <td>0.002690</td>\n",
              "      <td>0.007490</td>\n",
              "      <td>0.022970</td>\n",
              "      <td>0.221000</td>\n",
              "      <td>0.012790</td>\n",
              "      <td>0.013470</td>\n",
              "      <td>0.018260</td>\n",
              "      <td>0.038360</td>\n",
              "      <td>0.011660</td>\n",
              "      <td>22.085000</td>\n",
              "      <td>1.000000</td>\n",
              "      <td>0.495954</td>\n",
              "      <td>0.722254</td>\n",
              "      <td>-5.720868</td>\n",
              "      <td>0.218885</td>\n",
              "      <td>2.361532</td>\n",
              "      <td>0.194052</td>\n",
              "    </tr>\n",
              "    <tr>\n",
              "      <th>75%</th>\n",
              "      <td>182.769000</td>\n",
              "      <td>224.205500</td>\n",
              "      <td>140.018500</td>\n",
              "      <td>0.007365</td>\n",
              "      <td>0.000060</td>\n",
              "      <td>0.003835</td>\n",
              "      <td>0.003955</td>\n",
              "      <td>0.011505</td>\n",
              "      <td>0.037885</td>\n",
              "      <td>0.350000</td>\n",
              "      <td>0.020265</td>\n",
              "      <td>0.022380</td>\n",
              "      <td>0.029400</td>\n",
              "      <td>0.060795</td>\n",
              "      <td>0.025640</td>\n",
              "      <td>25.075500</td>\n",
              "      <td>1.000000</td>\n",
              "      <td>0.587562</td>\n",
              "      <td>0.761881</td>\n",
              "      <td>-5.046192</td>\n",
              "      <td>0.279234</td>\n",
              "      <td>2.636456</td>\n",
              "      <td>0.252980</td>\n",
              "    </tr>\n",
              "    <tr>\n",
              "      <th>max</th>\n",
              "      <td>260.105000</td>\n",
              "      <td>592.030000</td>\n",
              "      <td>239.170000</td>\n",
              "      <td>0.033160</td>\n",
              "      <td>0.000260</td>\n",
              "      <td>0.021440</td>\n",
              "      <td>0.019580</td>\n",
              "      <td>0.064330</td>\n",
              "      <td>0.119080</td>\n",
              "      <td>1.302000</td>\n",
              "      <td>0.056470</td>\n",
              "      <td>0.079400</td>\n",
              "      <td>0.137780</td>\n",
              "      <td>0.169420</td>\n",
              "      <td>0.314820</td>\n",
              "      <td>33.047000</td>\n",
              "      <td>1.000000</td>\n",
              "      <td>0.685151</td>\n",
              "      <td>0.825288</td>\n",
              "      <td>-2.434031</td>\n",
              "      <td>0.450493</td>\n",
              "      <td>3.671155</td>\n",
              "      <td>0.527367</td>\n",
              "    </tr>\n",
              "  </tbody>\n",
              "</table>\n",
              "</div>"
            ],
            "text/plain": [
              "       MDVP:Fo(Hz)  MDVP:Fhi(Hz)  ...          D2         PPE\n",
              "count   195.000000    195.000000  ...  195.000000  195.000000\n",
              "mean    154.228641    197.104918  ...    2.381826    0.206552\n",
              "std      41.390065     91.491548  ...    0.382799    0.090119\n",
              "min      88.333000    102.145000  ...    1.423287    0.044539\n",
              "25%     117.572000    134.862500  ...    2.099125    0.137451\n",
              "50%     148.790000    175.829000  ...    2.361532    0.194052\n",
              "75%     182.769000    224.205500  ...    2.636456    0.252980\n",
              "max     260.105000    592.030000  ...    3.671155    0.527367\n",
              "\n",
              "[8 rows x 23 columns]"
            ]
          },
          "metadata": {
            "tags": []
          },
          "execution_count": 6
        }
      ]
    },
    {
      "cell_type": "markdown",
      "metadata": {
        "id": "9k5URHFN9Ovk"
      },
      "source": [
        "#Finding if any NAN values in the dataset"
      ]
    },
    {
      "cell_type": "code",
      "metadata": {
        "colab": {
          "base_uri": "https://localhost:8080/",
          "height": 372
        },
        "id": "-VXdcakN9TEe",
        "outputId": "bdde741b-ddb4-4fea-e046-df79f3c3d617"
      },
      "source": [
        "sns.heatmap(ParkinsonDataset.isnull(),yticklabels=False,cbar=False,cmap='viridis')"
      ],
      "execution_count": 7,
      "outputs": [
        {
          "output_type": "execute_result",
          "data": {
            "text/plain": [
              "<matplotlib.axes._subplots.AxesSubplot at 0x7f4c348bbb50>"
            ]
          },
          "metadata": {
            "tags": []
          },
          "execution_count": 7
        },
        {
          "output_type": "display_data",
          "data": {
            "image/png": "[encoded data removed]",
            "text/plain": [
              "<Figure size 432x288 with 1 Axes>"
            ]
          },
          "metadata": {
            "tags": [],
            "needs_background": "light"
          }
        }
      ]
    },
    {
      "cell_type": "markdown",
      "metadata": {
        "id": "5jrHeqh29vpO"
      },
      "source": [
        "#finding how many are PD patients and healthy and thier relations "
      ]
    },
    {
      "cell_type": "code",
      "metadata": {
        "colab": {
          "base_uri": "https://localhost:8080/",
          "height": 296
        },
        "id": "eJxStLLK93x5",
        "outputId": "708c8fd6-ea39-4184-c5ee-18c83eeb09b3"
      },
      "source": [
        "ParkinsonDataset['status'].value_counts()\n",
        "\n",
        "sns.countplot(x = 'status',data=ParkinsonDataset)"
      ],
      "execution_count": 8,
      "outputs": [
        {
          "output_type": "execute_result",
          "data": {
            "text/plain": [
              "<matplotlib.axes._subplots.AxesSubplot at 0x7f4c2c82a9d0>"
            ]
          },
          "metadata": {
            "tags": []
          },
          "execution_count": 8
        },
        {
          "output_type": "display_data",
          "data": {
            "image/png": "[encoded data removed]",
            "text/plain": [
              "<Figure size 432x288 with 1 Axes>"
            ]
          },
          "metadata": {
            "tags": [],
            "needs_background": "light"
          }
        }
      ]
    },
    {
      "cell_type": "markdown",
      "metadata": {
        "id": "MXBT0RSN-Fp7"
      },
      "source": [
        "#Data Preprocessing"
      ]
    },
    {
      "cell_type": "code",
      "metadata": {
        "id": "O2ESRL4l_8aQ"
      },
      "source": [
        "#cleaning the data-->removing name column as its not required\n",
        "ParkinsonDataset.drop(['name'],axis=1,inplace=True)"
      ],
      "execution_count": 9,
      "outputs": []
    },
    {
      "cell_type": "markdown",
      "metadata": {
        "id": "-qWR9zNp-2he"
      },
      "source": [
        "#data Standardization(Scalar function)"
      ]
    },
    {
      "cell_type": "code",
      "metadata": {
        "id": "fbXZTZcZ_Cpi"
      },
      "source": [
        "X = ParkinsonDataset.drop('status',axis=1)\n",
        "scaler=StandardScaler()"
      ],
      "execution_count": 10,
      "outputs": []
    },
    {
      "cell_type": "code",
      "metadata": {
        "colab": {
          "base_uri": "https://localhost:8080/"
        },
        "id": "jn51hzXR_NeM",
        "outputId": "5a0276a1-c36d-4c87-90f9-e5a807274321"
      },
      "source": [
        "scaler.fit(ParkinsonDataset.drop('status',axis=1))"
      ],
      "execution_count": 11,
      "outputs": [
        {
          "output_type": "execute_result",
          "data": {
            "text/plain": [
              "StandardScaler(copy=True, with_mean=True, with_std=True)"
            ]
          },
          "metadata": {
            "tags": []
          },
          "execution_count": 11
        }
      ]
    },
    {
      "cell_type": "code",
      "metadata": {
        "id": "-RDb_wdbAc9_"
      },
      "source": [
        "scaler_feature = scaler.transform(ParkinsonDataset.drop('status',axis=1))"
      ],
      "execution_count": 12,
      "outputs": []
    },
    {
      "cell_type": "code",
      "metadata": {
        "id": "qJhTT1PKAifI"
      },
      "source": [
        "ParkinsonDataset_feature = pd.DataFrame(scaler_feature,columns=X.columns)"
      ],
      "execution_count": 13,
      "outputs": []
    },
    {
      "cell_type": "code",
      "metadata": {
        "colab": {
          "base_uri": "https://localhost:8080/",
          "height": 220
        },
        "id": "CYKVKdTQAum4",
        "outputId": "1b74b468-5f06-4615-919f-64099b1f2d0e"
      },
      "source": [
        "ParkinsonDataset_feature.head()"
      ],
      "execution_count": 14,
      "outputs": [
        {
          "output_type": "execute_result",
          "data": {
            "text/html": [
              "<div>\n",
              "<style scoped>\n",
              "    .dataframe tbody tr th:only-of-type {\n",
              "        vertical-align: middle;\n",
              "    }\n",
              "\n",
              "    .dataframe tbody tr th {\n",
              "        vertical-align: top;\n",
              "    }\n",
              "\n",
              "    .dataframe thead th {\n",
              "        text-align: right;\n",
              "    }\n",
              "</style>\n",
              "<table border=\"1\" class=\"dataframe\">\n",
              "  <thead>\n",
              "    <tr style=\"text-align: right;\">\n",
              "      <th></th>\n",
              "      <th>MDVP:Fo(Hz)</th>\n",
              "      <th>MDVP:Fhi(Hz)</th>\n",
              "      <th>MDVP:Flo(Hz)</th>\n",
              "      <th>MDVP:Jitter(%)</th>\n",
              "      <th>MDVP:Jitter(Abs)</th>\n",
              "      <th>MDVP:RAP</th>\n",
              "      <th>MDVP:PPQ</th>\n",
              "      <th>Jitter:DDP</th>\n",
              "      <th>MDVP:Shimmer</th>\n",
              "      <th>MDVP:Shimmer(dB)</th>\n",
              "      <th>Shimmer:APQ3</th>\n",
              "      <th>Shimmer:APQ5</th>\n",
              "      <th>MDVP:APQ</th>\n",
              "      <th>Shimmer:DDA</th>\n",
              "      <th>NHR</th>\n",
              "      <th>HNR</th>\n",
              "      <th>RPDE</th>\n",
              "      <th>DFA</th>\n",
              "      <th>spread1</th>\n",
              "      <th>spread2</th>\n",
              "      <th>D2</th>\n",
              "      <th>PPE</th>\n",
              "    </tr>\n",
              "  </thead>\n",
              "  <tbody>\n",
              "    <tr>\n",
              "      <th>0</th>\n",
              "      <td>-0.829300</td>\n",
              "      <td>-0.436165</td>\n",
              "      <td>-0.952037</td>\n",
              "      <td>0.334914</td>\n",
              "      <td>0.749759</td>\n",
              "      <td>0.132963</td>\n",
              "      <td>0.760800</td>\n",
              "      <td>0.131755</td>\n",
              "      <td>0.745985</td>\n",
              "      <td>0.739536</td>\n",
              "      <td>0.607859</td>\n",
              "      <td>1.119147</td>\n",
              "      <td>0.332985</td>\n",
              "      <td>0.607532</td>\n",
              "      <td>-0.067893</td>\n",
              "      <td>-0.193225</td>\n",
              "      <td>-0.807838</td>\n",
              "      <td>1.760814</td>\n",
              "      <td>0.801323</td>\n",
              "      <td>0.480477</td>\n",
              "      <td>-0.210531</td>\n",
              "      <td>0.868886</td>\n",
              "    </tr>\n",
              "    <tr>\n",
              "      <th>1</th>\n",
              "      <td>-0.770972</td>\n",
              "      <td>-0.530974</td>\n",
              "      <td>-0.057721</td>\n",
              "      <td>0.715418</td>\n",
              "      <td>1.037674</td>\n",
              "      <td>0.453892</td>\n",
              "      <td>1.276809</td>\n",
              "      <td>0.452684</td>\n",
              "      <td>1.681731</td>\n",
              "      <td>1.768464</td>\n",
              "      <td>1.547912</td>\n",
              "      <td>2.276504</td>\n",
              "      <td>1.159454</td>\n",
              "      <td>1.548254</td>\n",
              "      <td>-0.137843</td>\n",
              "      <td>-0.634508</td>\n",
              "      <td>-0.387524</td>\n",
              "      <td>1.837562</td>\n",
              "      <td>1.479853</td>\n",
              "      <td>1.311185</td>\n",
              "      <td>0.275077</td>\n",
              "      <td>1.803605</td>\n",
              "    </tr>\n",
              "    <tr>\n",
              "      <th>2</th>\n",
              "      <td>-0.909476</td>\n",
              "      <td>-0.723168</td>\n",
              "      <td>-0.109875</td>\n",
              "      <td>0.884991</td>\n",
              "      <td>1.325589</td>\n",
              "      <td>0.720770</td>\n",
              "      <td>1.585687</td>\n",
              "      <td>0.721813</td>\n",
              "      <td>1.202693</td>\n",
              "      <td>1.027636</td>\n",
              "      <td>1.175643</td>\n",
              "      <td>1.726176</td>\n",
              "      <td>0.699187</td>\n",
              "      <td>1.175323</td>\n",
              "      <td>-0.291633</td>\n",
              "      <td>-0.279760</td>\n",
              "      <td>-0.662075</td>\n",
              "      <td>1.942048</td>\n",
              "      <td>1.141445</td>\n",
              "      <td>1.017682</td>\n",
              "      <td>-0.103629</td>\n",
              "      <td>1.402661</td>\n",
              "    </tr>\n",
              "    <tr>\n",
              "      <th>3</th>\n",
              "      <td>-0.909622</td>\n",
              "      <td>-0.649092</td>\n",
              "      <td>-0.114229</td>\n",
              "      <td>0.775389</td>\n",
              "      <td>1.325589</td>\n",
              "      <td>0.578885</td>\n",
              "      <td>1.284076</td>\n",
              "      <td>0.577677</td>\n",
              "      <td>1.340396</td>\n",
              "      <td>1.207698</td>\n",
              "      <td>1.340547</td>\n",
              "      <td>1.848749</td>\n",
              "      <td>0.806859</td>\n",
              "      <td>1.340229</td>\n",
              "      <td>-0.280719</td>\n",
              "      <td>-0.281346</td>\n",
              "      <td>-0.613134</td>\n",
              "      <td>1.832380</td>\n",
              "      <td>1.440945</td>\n",
              "      <td>1.293840</td>\n",
              "      <td>0.062145</td>\n",
              "      <td>1.806954</td>\n",
              "    </tr>\n",
              "    <tr>\n",
              "      <th>4</th>\n",
              "      <td>-0.925657</td>\n",
              "      <td>-0.606245</td>\n",
              "      <td>-0.130608</td>\n",
              "      <td>1.368893</td>\n",
              "      <td>1.901418</td>\n",
              "      <td>1.095750</td>\n",
              "      <td>2.047187</td>\n",
              "      <td>1.096793</td>\n",
              "      <td>1.836448</td>\n",
              "      <td>1.552389</td>\n",
              "      <td>1.899444</td>\n",
              "      <td>2.532491</td>\n",
              "      <td>1.216839</td>\n",
              "      <td>1.899461</td>\n",
              "      <td>-0.178026</td>\n",
              "      <td>-0.506745</td>\n",
              "      <td>-0.783021</td>\n",
              "      <td>1.909364</td>\n",
              "      <td>1.780940</td>\n",
              "      <td>0.096195</td>\n",
              "      <td>-0.130026</td>\n",
              "      <td>2.267082</td>\n",
              "    </tr>\n",
              "  </tbody>\n",
              "</table>\n",
              "</div>"
            ],
            "text/plain": [
              "   MDVP:Fo(Hz)  MDVP:Fhi(Hz)  MDVP:Flo(Hz)  ...   spread2        D2       PPE\n",
              "0    -0.829300     -0.436165     -0.952037  ...  0.480477 -0.210531  0.868886\n",
              "1    -0.770972     -0.530974     -0.057721  ...  1.311185  0.275077  1.803605\n",
              "2    -0.909476     -0.723168     -0.109875  ...  1.017682 -0.103629  1.402661\n",
              "3    -0.909622     -0.649092     -0.114229  ...  1.293840  0.062145  1.806954\n",
              "4    -0.925657     -0.606245     -0.130608  ...  0.096195 -0.130026  2.267082\n",
              "\n",
              "[5 rows x 22 columns]"
            ]
          },
          "metadata": {
            "tags": []
          },
          "execution_count": 14
        }
      ]
    },
    {
      "cell_type": "markdown",
      "metadata": {
        "id": "R-l_vvpADIxT"
      },
      "source": [
        "#Now Splitting of data"
      ]
    },
    {
      "cell_type": "code",
      "metadata": {
        "id": "dvA33y24DL9r"
      },
      "source": [
        "X=ParkinsonDataset_feature\n",
        "Y=ParkinsonDataset['status']\n",
        "X_train, X_test, Y_train, Y_test = train_test_split(X, Y, test_size=0.30, random_state=42)"
      ],
      "execution_count": 120,
      "outputs": []
    },
    {
      "cell_type": "markdown",
      "metadata": {
        "id": "H4gEnEIyFu7J"
      },
      "source": [
        "#KNN Model Training"
      ]
    },
    {
      "cell_type": "code",
      "metadata": {
        "id": "nR1e5uh7FxW4"
      },
      "source": [
        "from sklearn.neighbors import KNeighborsClassifier"
      ],
      "execution_count": 121,
      "outputs": []
    },
    {
      "cell_type": "code",
      "metadata": {
        "colab": {
          "base_uri": "https://localhost:8080/"
        },
        "id": "oq3PhL3gOClz",
        "outputId": "9aaad607-e9e5-432a-e731-12a9c8ff159a"
      },
      "source": [
        "knn = KNeighborsClassifier(n_neighbors=3)\n",
        "knn.fit(X_train,Y_train)\n",
        "KNN_prediction = knn.predict(X_train)\n",
        "print(KNN_prediction)"
      ],
      "execution_count": 122,
      "outputs": [
        {
          "output_type": "stream",
          "text": [
            "[1 0 0 1 1 1 1 1 1 1 0 1 1 0 1 1 1 1 0 1 1 1 0 1 1 1 1 1 1 1 0 0 1 1 1 1 0\n",
            " 1 1 1 0 1 1 1 0 0 1 1 1 1 1 0 1 1 1 1 1 1 1 1 1 0 1 1 1 0 0 0 1 1 0 1 1 1\n",
            " 0 1 0 1 1 0 1 0 1 1 1 1 0 0 1 1 1 1 0 1 1 1 0 1 1 1 0 1 1 0 0 1 0 1 1 1 1\n",
            " 0 1 1 1 0 1 0 1 1 1 1 1 1 1 1 1 0 1 1 1 1 1 1 1 1]\n"
          ],
          "name": "stdout"
        }
      ]
    },
    {
      "cell_type": "code",
      "metadata": {
        "colab": {
          "base_uri": "https://localhost:8080/"
        },
        "id": "mRZlVszcOHvB",
        "outputId": "985369cc-8c82-4087-b430-8dec9fc99d8a"
      },
      "source": [
        "print('Classification report')\n",
        "print(classification_report(Y_train,KNN_prediction))\n",
        "print('\\n')\n",
        "print('Confusion matrix')\n",
        "print(confusion_matrix(Y_train,KNN_prediction))"
      ],
      "execution_count": 123,
      "outputs": [
        {
          "output_type": "stream",
          "text": [
            "Classification report\n",
            "              precision    recall  f1-score   support\n",
            "\n",
            "           0       0.94      0.97      0.96        33\n",
            "           1       0.99      0.98      0.99       103\n",
            "\n",
            "    accuracy                           0.98       136\n",
            "   macro avg       0.97      0.98      0.97       136\n",
            "weighted avg       0.98      0.98      0.98       136\n",
            "\n",
            "\n",
            "\n",
            "Confusion matrix\n",
            "[[ 32   1]\n",
            " [  2 101]]\n"
          ],
          "name": "stdout"
        }
      ]
    },
    {
      "cell_type": "code",
      "metadata": {
        "colab": {
          "base_uri": "https://localhost:8080/"
        },
        "id": "rkkW9OAtFyy6",
        "outputId": "2d6823bc-5fc0-4488-de07-18a2556eebd6"
      },
      "source": [
        "knn = KNeighborsClassifier(n_neighbors=3)\n",
        "knn.fit(X_train,Y_train)\n",
        "KNN_prediction_test = knn.predict(X_test)\n",
        "print(KNN_prediction_test)"
      ],
      "execution_count": 124,
      "outputs": [
        {
          "output_type": "stream",
          "text": [
            "[1 1 1 1 1 1 1 0 1 1 0 1 1 1 1 1 1 1 0 1 1 1 1 0 1 1 1 1 0 1 1 1 1 0 1 0 1\n",
            " 1 0 1 1 1 0 1 1 1 1 1 0 0 1 1 1 1 1 1 0 0 0]\n"
          ],
          "name": "stdout"
        }
      ]
    },
    {
      "cell_type": "markdown",
      "metadata": {
        "id": "k73ycARNGXvY"
      },
      "source": [
        "#Model Evaluation-KNN"
      ]
    },
    {
      "cell_type": "code",
      "metadata": {
        "colab": {
          "base_uri": "https://localhost:8080/"
        },
        "id": "UJ0ZaSl_GZ_A",
        "outputId": "b0ff284d-539a-4bf1-b073-0f5ad3ae1e40"
      },
      "source": [
        "print('Classification report')\n",
        "print(classification_report(Y_test,KNN_prediction_test))\n",
        "print('\\n')\n",
        "print('Confusion matrix')\n",
        "print(confusion_matrix(Y_test,KNN_prediction_test))"
      ],
      "execution_count": 125,
      "outputs": [
        {
          "output_type": "stream",
          "text": [
            "Classification report\n",
            "              precision    recall  f1-score   support\n",
            "\n",
            "           0       0.86      0.80      0.83        15\n",
            "           1       0.93      0.95      0.94        44\n",
            "\n",
            "    accuracy                           0.92        59\n",
            "   macro avg       0.90      0.88      0.89        59\n",
            "weighted avg       0.91      0.92      0.91        59\n",
            "\n",
            "\n",
            "\n",
            "Confusion matrix\n",
            "[[12  3]\n",
            " [ 2 42]]\n"
          ],
          "name": "stdout"
        }
      ]
    },
    {
      "cell_type": "markdown",
      "metadata": {
        "id": "7xV2CQPVV4GE"
      },
      "source": [
        "#ConfusionMatrrix"
      ]
    },
    {
      "cell_type": "code",
      "metadata": {
        "colab": {
          "base_uri": "https://localhost:8080/",
          "height": 408
        },
        "id": "X3VFoK_NV8AR",
        "outputId": "8aeae925-a710-4f25-b7ff-30244bf3ddae"
      },
      "source": [
        "import matplotlib.pyplot as plt\n",
        "cm=confusion_matrix(Y_test,KNN_prediction_test)\n",
        "import seaborn as sn\n",
        "plt.figure(figsize=(8,6))\n",
        "fg=sn.heatmap(cm,annot=True,cmap='Blues')\n",
        "figure = fg.get_figure()\n",
        "plt.xlabel(\"Predicted\")\n",
        "plt.ylabel(\"Truth\")"
      ],
      "execution_count": null,
      "outputs": [
        {
          "output_type": "execute_result",
          "data": {
            "text/plain": [
              "Text(51.0, 0.5, 'Truth')"
            ]
          },
          "metadata": {
            "tags": []
          },
          "execution_count": 135
        },
        {
          "output_type": "display_data",
          "data": {
            "image/png": "[encoded data removed]",
            "text/plain": [
              "<Figure size 576x432 with 2 Axes>"
            ]
          },
          "metadata": {
            "tags": [],
            "needs_background": "light"
          }
        }
      ]
    },
    {
      "cell_type": "code",
      "metadata": {
        "colab": {
          "base_uri": "https://localhost:8080/"
        },
        "id": "HB9WeXPGwBj0",
        "outputId": "3f610650-db22-448c-867d-0f56fc8d728f"
      },
      "source": [
        "#Accuracy\n",
        "from sklearn.metrics import accuracy_score\n",
        "accuracy = accuracy_score(Y_test,KNN_prediction_test)*100\n",
        "print(f'model accuracy is : {accuracy.round()} %')"
      ],
      "execution_count": 126,
      "outputs": [
        {
          "output_type": "stream",
          "text": [
            "model accuracy is : 92.0 %\n"
          ],
          "name": "stdout"
        }
      ]
    },
    {
      "cell_type": "code",
      "metadata": {
        "colab": {
          "base_uri": "https://localhost:8080/"
        },
        "id": "CjqdyADA7NNa",
        "outputId": "9e492ffc-42b6-45f6-b0e7-a6bdb62c843f"
      },
      "source": [
        "#f1, precesion, recall\n",
        "from sklearn.metrics import f1_score\n",
        "score = f1_score(Y_test,KNN_prediction_test, average='binary')\n",
        "print('F-Measure for KNN : %.3f' % score)\n",
        "\n",
        "from sklearn.metrics import recall_score\n",
        "recall = recall_score(Y_test,KNN_prediction_test, average='binary')\n",
        "print('Recall for KNN: %.3f' % recall)\n",
        "\n",
        "\n",
        "from sklearn.metrics import precision_score\n",
        "precision = precision_score(Y_test,KNN_prediction_test, average='binary')\n",
        "print('Precision for KNN: %.3f' % precision)"
      ],
      "execution_count": 127,
      "outputs": [
        {
          "output_type": "stream",
          "text": [
            "F-Measure for KNN : 0.944\n",
            "Recall for KNN: 0.955\n",
            "Precision for KNN: 0.933\n"
          ],
          "name": "stdout"
        }
      ]
    },
    {
      "cell_type": "markdown",
      "metadata": {
        "id": "F91ZaFVnZ4D7"
      },
      "source": [
        "#K cross validation tecnique\n",
        "\n",
        "*   List item\n",
        "*   List item\n",
        "\n"
      ]
    },
    {
      "cell_type": "code",
      "metadata": {
        "colab": {
          "base_uri": "https://localhost:8080/"
        },
        "id": "giaD6EFgrfqS",
        "outputId": "d7685a91-e8af-4f16-c8c5-9a85f00e41f9"
      },
      "source": [
        "knn = KNeighborsClassifier(n_neighbors=7)\n",
        "scores = cross_val_score(knn, X, Y , cv = 10, scoring= 'accuracy')\n",
        "print(scores)\n",
        "print(scores.mean())"
      ],
      "execution_count": null,
      "outputs": [
        {
          "output_type": "stream",
          "text": [
            "[0.7        0.95       0.9        0.75       1.         0.94736842\n",
            " 0.78947368 0.73684211 0.78947368 0.68421053]\n",
            "0.8247368421052632\n"
          ],
          "name": "stdout"
        }
      ]
    },
    {
      "cell_type": "code",
      "metadata": {
        "id": "tliMvJsNzS1i"
      },
      "source": [
        "X=ParkinsonDataset_feature\n",
        "Y=ParkinsonDataset['status']\n",
        "X_train, X_test, Y_train, Y_test = train_test_split(X, Y, test_size=0.30, random_state=42)"
      ],
      "execution_count": 34,
      "outputs": []
    },
    {
      "cell_type": "markdown",
      "metadata": {
        "id": "jv-IaFMLutE0"
      },
      "source": [
        "#SVM Implementation"
      ]
    },
    {
      "cell_type": "code",
      "metadata": {
        "colab": {
          "base_uri": "https://localhost:8080/"
        },
        "id": "tw49f7BguwIC",
        "outputId": "16963aa0-332a-4114-d727-b82628dc65bb"
      },
      "source": [
        "model=svm.SVC(kernel='linear')\n",
        "model.fit(X_train,Y_train)"
      ],
      "execution_count": 112,
      "outputs": [
        {
          "output_type": "execute_result",
          "data": {
            "text/plain": [
              "SVC(C=1.0, break_ties=False, cache_size=200, class_weight=None, coef0=0.0,\n",
              "    decision_function_shape='ovr', degree=3, gamma='scale', kernel='linear',\n",
              "    max_iter=-1, probability=False, random_state=None, shrinking=True,\n",
              "    tol=0.001, verbose=False)"
            ]
          },
          "metadata": {
            "tags": []
          },
          "execution_count": 112
        }
      ]
    },
    {
      "cell_type": "code",
      "metadata": {
        "colab": {
          "base_uri": "https://localhost:8080/"
        },
        "id": "PwIhmc6gznBg",
        "outputId": "c9daa514-dda9-4abe-a25f-de6482c2e891"
      },
      "source": [
        "SVM_train_Predcition=model.predict(X_train)\n",
        "print(SVM_train_Predcition)"
      ],
      "execution_count": 113,
      "outputs": [
        {
          "output_type": "stream",
          "text": [
            "[1 0 1 1 1 1 1 1 1 1 0 1 1 0 1 1 1 1 1 1 1 1 0 1 1 1 1 1 1 1 0 1 1 1 1 1 0\n",
            " 1 1 1 1 1 1 1 0 0 1 1 1 1 1 0 1 1 1 1 1 1 1 1 1 0 1 1 1 0 1 0 1 1 0 1 1 1\n",
            " 1 1 1 1 1 1 1 0 1 1 1 1 1 1 1 1 1 1 0 1 1 1 0 1 1 1 0 1 1 0 1 1 0 1 1 1 1\n",
            " 0 1 1 1 1 1 0 1 1 1 1 1 1 1 1 1 1 1 1 1 1 1 1 1 1]\n"
          ],
          "name": "stdout"
        }
      ]
    },
    {
      "cell_type": "code",
      "metadata": {
        "colab": {
          "base_uri": "https://localhost:8080/"
        },
        "id": "8LcGEnOb0Eoc",
        "outputId": "4d321be5-f12d-4e6b-cb8e-5a0aac891550"
      },
      "source": [
        "#Training\n",
        "print('Classification report')\n",
        "print(classification_report(Y_train,SVM_train_Predcition))\n",
        "print('\\n')\n",
        "print('Confusion matrix')\n",
        "print(confusion_matrix(Y_train,SVM_train_Predcition))"
      ],
      "execution_count": 114,
      "outputs": [
        {
          "output_type": "stream",
          "text": [
            "Classification report\n",
            "              precision    recall  f1-score   support\n",
            "\n",
            "           0       1.00      0.64      0.78        33\n",
            "           1       0.90      1.00      0.94       103\n",
            "\n",
            "    accuracy                           0.91       136\n",
            "   macro avg       0.95      0.82      0.86       136\n",
            "weighted avg       0.92      0.91      0.90       136\n",
            "\n",
            "\n",
            "\n",
            "Confusion matrix\n",
            "[[ 21  12]\n",
            " [  0 103]]\n"
          ],
          "name": "stdout"
        }
      ]
    },
    {
      "cell_type": "code",
      "metadata": {
        "colab": {
          "base_uri": "https://localhost:8080/"
        },
        "id": "OQ54nOF10Soq",
        "outputId": "8e0f7f34-28f9-4d9e-826d-54c2883fe3cf"
      },
      "source": [
        "#Testing \n",
        "SVM_test_Predcition=model.predict(X_test)\n",
        "print(SVM_test_Predcition)"
      ],
      "execution_count": 115,
      "outputs": [
        {
          "output_type": "stream",
          "text": [
            "[1 1 1 1 1 1 1 1 1 1 1 1 1 1 1 1 0 1 0 1 1 1 1 0 1 1 1 1 0 1 1 1 1 1 1 0 1\n",
            " 1 0 1 1 1 0 1 1 1 0 1 0 0 1 1 1 1 1 1 1 1 0]\n"
          ],
          "name": "stdout"
        }
      ]
    },
    {
      "cell_type": "code",
      "metadata": {
        "colab": {
          "base_uri": "https://localhost:8080/"
        },
        "id": "idT6FGlV1Gqg",
        "outputId": "fc41c205-ae36-4581-8bba-34e1d7d5fc78"
      },
      "source": [
        "#Classification Report\n",
        "print('Classification report')\n",
        "print(classification_report(Y_test,SVM_test_Predcition))\n",
        "print('\\n')\n",
        "print('Confusion matrix')\n",
        "print(confusion_matrix(Y_test,SVM_test_Predcition))"
      ],
      "execution_count": 116,
      "outputs": [
        {
          "output_type": "stream",
          "text": [
            "Classification report\n",
            "              precision    recall  f1-score   support\n",
            "\n",
            "           0       0.82      0.60      0.69        15\n",
            "           1       0.88      0.95      0.91        44\n",
            "\n",
            "    accuracy                           0.86        59\n",
            "   macro avg       0.85      0.78      0.80        59\n",
            "weighted avg       0.86      0.86      0.86        59\n",
            "\n",
            "\n",
            "\n",
            "Confusion matrix\n",
            "[[ 9  6]\n",
            " [ 2 42]]\n"
          ],
          "name": "stdout"
        }
      ]
    },
    {
      "cell_type": "code",
      "metadata": {
        "colab": {
          "base_uri": "https://localhost:8080/"
        },
        "id": "0sRi3m971ZkZ",
        "outputId": "b56198d0-82d7-4cd1-e2f8-744c66300335"
      },
      "source": [
        "#CV method\n",
        "model=svm.SVC(kernel='linear')\n",
        "scores = cross_val_score(model, X, Y , cv = 10, scoring= 'accuracy')\n",
        "print(scores)\n",
        "print(scores.mean())"
      ],
      "execution_count": 117,
      "outputs": [
        {
          "output_type": "stream",
          "text": [
            "[0.95       0.95       0.8        0.85       0.95       0.68421053\n",
            " 0.52631579 0.73684211 0.78947368 0.73684211]\n",
            "0.7973684210526316\n"
          ],
          "name": "stdout"
        }
      ]
    },
    {
      "cell_type": "code",
      "metadata": {
        "colab": {
          "base_uri": "https://localhost:8080/",
          "height": 410
        },
        "id": "1iGMP-9kWGuU",
        "outputId": "50bcca82-6916-44ca-e308-4e00b54364a0"
      },
      "source": [
        "#Confusion Matrix\n",
        "\n",
        "import matplotlib.pyplot as plt\n",
        "cm=confusion_matrix(Y_test,SVM_test_Predcition)\n",
        "import seaborn as sn\n",
        "plt.figure(figsize=(8,6))\n",
        "fg=sn.heatmap(cm,annot=True,cmap='Blues')\n",
        "figure = fg.get_figure()\n",
        "plt.xlabel(\"Predicted\")\n",
        "plt.ylabel(\"Truth\")"
      ],
      "execution_count": null,
      "outputs": [
        {
          "output_type": "execute_result",
          "data": {
            "text/plain": [
              "Text(51.0, 0.5, 'Truth')"
            ]
          },
          "metadata": {
            "tags": []
          },
          "execution_count": 77
        },
        {
          "output_type": "display_data",
          "data": {
            "image/png": "[encoded data removed]",
            "text/plain": [
              "<Figure size 576x432 with 2 Axes>"
            ]
          },
          "metadata": {
            "tags": [],
            "needs_background": "light"
          }
        }
      ]
    },
    {
      "cell_type": "code",
      "metadata": {
        "colab": {
          "base_uri": "https://localhost:8080/"
        },
        "id": "eybc6JWc1iun",
        "outputId": "cce47265-0218-47a4-d120-043d0039ac34"
      },
      "source": [
        "#Accuracy\n",
        "from sklearn.metrics import accuracy_score\n",
        "accuracy = accuracy_score(Y_test,SVM_test_Predcition)*100\n",
        "print(f'model accuracy is : {accuracy.round()} %')"
      ],
      "execution_count": 118,
      "outputs": [
        {
          "output_type": "stream",
          "text": [
            "model accuracy is : 86.0 %\n"
          ],
          "name": "stdout"
        }
      ]
    },
    {
      "cell_type": "code",
      "metadata": {
        "colab": {
          "base_uri": "https://localhost:8080/"
        },
        "id": "BoR3cjfw8hum",
        "outputId": "adede1f0-4fa2-431f-d683-5a2a54a7c9a7"
      },
      "source": [
        "#f1, precesion, recall\n",
        "from sklearn.metrics import f1_score\n",
        "score = f1_score(Y_test,SVM_test_Predcition, average='binary')\n",
        "print('F-Measure for SVM : %.3f' % score)\n",
        "\n",
        "from sklearn.metrics import recall_score\n",
        "recall = recall_score(Y_test,SVM_test_Predcition, average='binary')\n",
        "print('Recall for SVM: %.3f' % recall)\n",
        "\n",
        "\n",
        "from sklearn.metrics import precision_score\n",
        "precision = precision_score(Y_test,SVM_test_Predcition, average='binary')\n",
        "print('Precision for SVM: %.3f' % precision)"
      ],
      "execution_count": 119,
      "outputs": [
        {
          "output_type": "stream",
          "text": [
            "F-Measure for SVM : 0.913\n",
            "Recall for SVM: 0.955\n",
            "Precision for SVM: 0.875\n"
          ],
          "name": "stdout"
        }
      ]
    },
    {
      "cell_type": "markdown",
      "metadata": {
        "id": "b8xZHTxsKZNR"
      },
      "source": [
        "#Logistic Regression"
      ]
    },
    {
      "cell_type": "code",
      "metadata": {
        "id": "j0MTVZopKrdS"
      },
      "source": [
        "from sklearn.linear_model import LogisticRegression"
      ],
      "execution_count": 103,
      "outputs": []
    },
    {
      "cell_type": "code",
      "metadata": {
        "id": "ooxrZtlANC4-"
      },
      "source": [
        "log_reg = LogisticRegression()"
      ],
      "execution_count": 104,
      "outputs": []
    },
    {
      "cell_type": "code",
      "metadata": {
        "id": "MUVwDeAFNGQg"
      },
      "source": [
        "X=ParkinsonDataset_feature\n",
        "Y=ParkinsonDataset['status']\n",
        "X_train, X_test, Y_train, Y_test = train_test_split(X, Y, test_size=0.30, random_state=42)"
      ],
      "execution_count": 105,
      "outputs": []
    },
    {
      "cell_type": "code",
      "metadata": {
        "id": "HggvnHUf0Wz5"
      },
      "source": [
        ""
      ],
      "execution_count": null,
      "outputs": []
    },
    {
      "cell_type": "code",
      "metadata": {
        "colab": {
          "base_uri": "https://localhost:8080/"
        },
        "id": "vl5UIniONUMO",
        "outputId": "0906db60-cedf-4b0d-cbd0-fc86ec9fe802"
      },
      "source": [
        "#Training\n",
        "log_reg.fit(X_train,Y_train)\n",
        "LR_Train_prediction = log_reg.predict(X_train)\n",
        "print(LR_Train_prediction)\n",
        "\n"
      ],
      "execution_count": 106,
      "outputs": [
        {
          "output_type": "stream",
          "text": [
            "[1 0 1 0 1 1 1 1 1 1 0 1 1 0 1 1 1 1 1 1 1 1 0 1 1 1 1 1 1 1 0 1 1 1 1 1 0\n",
            " 1 1 1 1 1 1 1 0 0 1 1 1 1 1 0 1 1 1 1 1 1 1 1 1 0 1 1 1 0 1 0 1 1 0 1 1 0\n",
            " 1 1 1 1 1 1 1 0 1 1 1 1 1 1 1 1 1 1 0 1 1 1 0 1 1 1 0 1 1 0 1 1 1 1 1 1 1\n",
            " 0 1 1 1 1 1 0 1 1 1 0 1 1 1 1 1 1 1 0 1 0 1 1 1 1]\n"
          ],
          "name": "stdout"
        }
      ]
    },
    {
      "cell_type": "code",
      "metadata": {
        "colab": {
          "base_uri": "https://localhost:8080/"
        },
        "id": "VS4f5yM-OeyD",
        "outputId": "f646f60a-5804-463d-88cb-389736bf0409"
      },
      "source": [
        "print('Classification report')\n",
        "print(classification_report(Y_train,LR_Train_prediction))\n",
        "print('\\n')\n",
        "print('Confusion matrix')\n",
        "print(confusion_matrix(Y_train,LR_Train_prediction))"
      ],
      "execution_count": 107,
      "outputs": [
        {
          "output_type": "stream",
          "text": [
            "Classification report\n",
            "              precision    recall  f1-score   support\n",
            "\n",
            "           0       0.84      0.64      0.72        33\n",
            "           1       0.89      0.96      0.93       103\n",
            "\n",
            "    accuracy                           0.88       136\n",
            "   macro avg       0.87      0.80      0.82       136\n",
            "weighted avg       0.88      0.88      0.88       136\n",
            "\n",
            "\n",
            "\n",
            "Confusion matrix\n",
            "[[21 12]\n",
            " [ 4 99]]\n"
          ],
          "name": "stdout"
        }
      ]
    },
    {
      "cell_type": "code",
      "metadata": {
        "colab": {
          "base_uri": "https://localhost:8080/"
        },
        "id": "6nt33-FgNeW3",
        "outputId": "b21d0ad5-4f39-470e-c60c-6ff1f1c81bdb"
      },
      "source": [
        "prediction_LR_Test = log_reg.predict(X_test)\n",
        "print(prediction_LR_Test)\n"
      ],
      "execution_count": 108,
      "outputs": [
        {
          "output_type": "stream",
          "text": [
            "[1 1 1 1 1 1 1 1 1 1 1 1 1 1 1 1 1 1 1 1 1 1 1 0 1 1 1 1 0 1 1 1 1 1 1 0 1\n",
            " 1 1 1 1 1 0 1 1 1 0 1 0 0 0 1 1 1 0 1 0 1 0]\n"
          ],
          "name": "stdout"
        }
      ]
    },
    {
      "cell_type": "code",
      "metadata": {
        "colab": {
          "base_uri": "https://localhost:8080/"
        },
        "id": "qoPbmagQOpah",
        "outputId": "c040056e-a913-47d6-bda5-667418c8dce3"
      },
      "source": [
        "print('Classification report')\n",
        "print(classification_report(Y_test,prediction_LR_Test))\n",
        "print('\\n')\n",
        "print('Confusion matrix')\n",
        "print(confusion_matrix(Y_test,prediction_LR_Test))"
      ],
      "execution_count": 109,
      "outputs": [
        {
          "output_type": "stream",
          "text": [
            "Classification report\n",
            "              precision    recall  f1-score   support\n",
            "\n",
            "           0       0.82      0.60      0.69        15\n",
            "           1       0.88      0.95      0.91        44\n",
            "\n",
            "    accuracy                           0.86        59\n",
            "   macro avg       0.85      0.78      0.80        59\n",
            "weighted avg       0.86      0.86      0.86        59\n",
            "\n",
            "\n",
            "\n",
            "Confusion matrix\n",
            "[[ 9  6]\n",
            " [ 2 42]]\n"
          ],
          "name": "stdout"
        }
      ]
    },
    {
      "cell_type": "code",
      "metadata": {
        "colab": {
          "base_uri": "https://localhost:8080/",
          "height": 405
        },
        "id": "-tMnfXzdV5FI",
        "outputId": "feaee39f-a107-4428-f202-9d0c8971dff3"
      },
      "source": [
        "#Confusion Matrix\n",
        "\n",
        "import matplotlib.pyplot as plt\n",
        "cm=confusion_matrix(Y_test,prediction_LR_Test)\n",
        "import seaborn as sn\n",
        "plt.figure(figsize=(8,6))\n",
        "fg=sn.heatmap(cm,annot=True,cmap='Blues')\n",
        "figure = fg.get_figure()\n",
        "plt.xlabel(\"Predicted\")\n",
        "plt.ylabel(\"Truth\")"
      ],
      "execution_count": null,
      "outputs": [
        {
          "output_type": "execute_result",
          "data": {
            "text/plain": [
              "Text(51.0, 0.5, 'Truth')"
            ]
          },
          "metadata": {
            "tags": []
          },
          "execution_count": 170
        },
        {
          "output_type": "display_data",
          "data": {
            "image/png": "[encoded data removed]",
            "text/plain": [
              "<Figure size 576x432 with 2 Axes>"
            ]
          },
          "metadata": {
            "tags": [],
            "needs_background": "light"
          }
        }
      ]
    },
    {
      "cell_type": "code",
      "metadata": {
        "colab": {
          "base_uri": "https://localhost:8080/"
        },
        "id": "fzv1azaO-iZo",
        "outputId": "e569c724-e775-49f2-b2d3-566b9fcf3168"
      },
      "source": [
        "#Accuracy\n",
        "from sklearn.metrics import accuracy_score\n",
        "accuracy = accuracy_score(Y_test,prediction_LR_Test)*100\n",
        "print(f'model accuracy is : {accuracy.round()} %')"
      ],
      "execution_count": 110,
      "outputs": [
        {
          "output_type": "stream",
          "text": [
            "model accuracy is : 86.0 %\n"
          ],
          "name": "stdout"
        }
      ]
    },
    {
      "cell_type": "code",
      "metadata": {
        "colab": {
          "base_uri": "https://localhost:8080/"
        },
        "id": "niPf6mBw9U39",
        "outputId": "8eab9de1-856a-43c1-f068-6df7038ef5a9"
      },
      "source": [
        "#f1, precesion, recall\n",
        "from sklearn.metrics import f1_score\n",
        "score = f1_score(Y_test,prediction_LR_Test, average='binary')\n",
        "print('F-Measure for Logistic regression : %.3f' % score)\n",
        "\n",
        "from sklearn.metrics import recall_score\n",
        "recall = recall_score(Y_test,prediction_LR_Test, average='binary')\n",
        "print('Recall for Logistic regression: %.3f' % recall)\n",
        "\n",
        "\n",
        "from sklearn.metrics import precision_score\n",
        "precision = precision_score(Y_test,prediction_LR_Test, average='binary')\n",
        "print('Precision for Logistic regression: %.3f' % precision)"
      ],
      "execution_count": 111,
      "outputs": [
        {
          "output_type": "stream",
          "text": [
            "F-Measure for Logistic regression : 0.913\n",
            "Recall for Logistic regression: 0.955\n",
            "Precision for Logistic regression: 0.875\n"
          ],
          "name": "stdout"
        }
      ]
    },
    {
      "cell_type": "code",
      "metadata": {
        "colab": {
          "base_uri": "https://localhost:8080/"
        },
        "id": "D-hxRRueWQ8d",
        "outputId": "fc1d86d6-f3d7-4e3f-ef34-c37547a71048"
      },
      "source": [
        "#CV method\n",
        "\n",
        "#CV method\n",
        "log_reg = LogisticRegression()\n",
        "scores = cross_val_score(log_reg, X, Y , cv = 10, scoring= 'accuracy')\n",
        "print(scores)\n",
        "print(scores.mean())"
      ],
      "execution_count": null,
      "outputs": [
        {
          "output_type": "stream",
          "text": [
            "[0.95       0.9        0.8        0.85       1.         0.68421053\n",
            " 0.52631579 0.73684211 0.84210526 0.73684211]\n",
            "0.8026315789473685\n"
          ],
          "name": "stdout"
        }
      ]
    },
    {
      "cell_type": "markdown",
      "metadata": {
        "id": "6QVH7sUSYAHo"
      },
      "source": [
        "#Decesion Tree"
      ]
    },
    {
      "cell_type": "code",
      "metadata": {
        "id": "VoI76wt-Ym5R"
      },
      "source": [
        "X = ParkinsonDataset.drop('status',axis=1)\n",
        "y = ParkinsonDataset['status']\n",
        "X_train, X_test, y_train, y_test = train_test_split(X, y, test_size=0.30, random_state=42)"
      ],
      "execution_count": 94,
      "outputs": []
    },
    {
      "cell_type": "code",
      "metadata": {
        "id": "8ZzJaWwJY3o8"
      },
      "source": [
        "from sklearn.tree import DecisionTreeClassifier"
      ],
      "execution_count": 95,
      "outputs": []
    },
    {
      "cell_type": "code",
      "metadata": {
        "id": "IslAEzM0ZIo6"
      },
      "source": [
        "dt = DecisionTreeClassifier()"
      ],
      "execution_count": 96,
      "outputs": []
    },
    {
      "cell_type": "code",
      "metadata": {
        "colab": {
          "base_uri": "https://localhost:8080/"
        },
        "id": "2mn-gLyNZKe_",
        "outputId": "eb91b3c0-8374-45fd-ba9f-9b57e61018c0"
      },
      "source": [
        "dt.fit(X_train,y_train)\n",
        "dt_prediction = dt.predict(X_train)\n",
        "print(dt_prediction)"
      ],
      "execution_count": 97,
      "outputs": [
        {
          "output_type": "stream",
          "text": [
            "[1 0 0 1 1 1 1 1 1 1 0 1 1 0 1 1 1 1 0 1 1 1 0 1 1 1 1 1 1 1 0 1 1 1 1 1 0\n",
            " 1 1 1 0 1 1 1 0 0 1 1 1 1 1 0 1 1 1 1 1 1 1 1 1 0 1 1 1 0 1 0 1 1 0 1 1 1\n",
            " 0 1 0 1 1 0 1 0 1 1 1 1 0 0 1 1 1 1 0 1 1 1 0 1 1 1 0 1 1 0 0 1 0 1 1 1 1\n",
            " 0 1 1 1 0 1 0 1 1 1 1 1 1 1 1 1 0 1 0 1 1 1 1 1 1]\n"
          ],
          "name": "stdout"
        }
      ]
    },
    {
      "cell_type": "code",
      "metadata": {
        "colab": {
          "base_uri": "https://localhost:8080/"
        },
        "id": "QyJqt4q5mMWy",
        "outputId": "d73408d8-aa3f-4e5e-c8db-faf6bf286703"
      },
      "source": [
        "#Classifcation Report:\n",
        "\n",
        "print('Classification report')\n",
        "print(classification_report(y_train,dt_prediction))\n",
        "print('\\n')\n",
        "print('Confusion matrix')\n",
        "print(confusion_matrix(y_train,dt_prediction))"
      ],
      "execution_count": 98,
      "outputs": [
        {
          "output_type": "stream",
          "text": [
            "Classification report\n",
            "              precision    recall  f1-score   support\n",
            "\n",
            "           0       1.00      1.00      1.00        33\n",
            "           1       1.00      1.00      1.00       103\n",
            "\n",
            "    accuracy                           1.00       136\n",
            "   macro avg       1.00      1.00      1.00       136\n",
            "weighted avg       1.00      1.00      1.00       136\n",
            "\n",
            "\n",
            "\n",
            "Confusion matrix\n",
            "[[ 33   0]\n",
            " [  0 103]]\n"
          ],
          "name": "stdout"
        }
      ]
    },
    {
      "cell_type": "code",
      "metadata": {
        "colab": {
          "base_uri": "https://localhost:8080/"
        },
        "id": "zSZCnGkLZSzf",
        "outputId": "a5c891f1-d50e-4d9d-bd2c-b15424862140"
      },
      "source": [
        "#testing dataset\n",
        "dt_prediction_test = dt.predict(X_test)\n",
        "print(dt_prediction_test)"
      ],
      "execution_count": 99,
      "outputs": [
        {
          "output_type": "stream",
          "text": [
            "[1 1 1 1 1 1 1 1 1 1 0 1 1 1 1 1 1 0 1 1 1 1 1 0 1 1 1 1 0 1 1 1 1 0 1 0 1\n",
            " 1 1 1 1 1 0 1 1 1 0 1 0 0 0 1 1 1 0 1 0 1 0]\n"
          ],
          "name": "stdout"
        }
      ]
    },
    {
      "cell_type": "code",
      "metadata": {
        "colab": {
          "base_uri": "https://localhost:8080/"
        },
        "id": "IJHd_fKpZgIL",
        "outputId": "708ebb8e-46c0-4f04-c155-0fa858aafa46"
      },
      "source": [
        "print('Classification report')\n",
        "print(classification_report(y_test,dt_prediction_test))\n",
        "print('\\n')\n",
        "print('Confusion matrix')\n",
        "print(confusion_matrix(y_test,dt_prediction_test))"
      ],
      "execution_count": 100,
      "outputs": [
        {
          "output_type": "stream",
          "text": [
            "Classification report\n",
            "              precision    recall  f1-score   support\n",
            "\n",
            "           0       0.79      0.73      0.76        15\n",
            "           1       0.91      0.93      0.92        44\n",
            "\n",
            "    accuracy                           0.88        59\n",
            "   macro avg       0.85      0.83      0.84        59\n",
            "weighted avg       0.88      0.88      0.88        59\n",
            "\n",
            "\n",
            "\n",
            "Confusion matrix\n",
            "[[11  4]\n",
            " [ 3 41]]\n"
          ],
          "name": "stdout"
        }
      ]
    },
    {
      "cell_type": "markdown",
      "metadata": {
        "id": "M-LnSAM2nAUv"
      },
      "source": [
        "#Confusion Matrix"
      ]
    },
    {
      "cell_type": "code",
      "metadata": {
        "colab": {
          "base_uri": "https://localhost:8080/",
          "height": 405
        },
        "id": "MC9g3uV3nC1V",
        "outputId": "cfba1bb8-aa47-45ab-a024-0e7e8219fee1"
      },
      "source": [
        "import matplotlib.pyplot as plt\n",
        "cm=confusion_matrix(y_test,dt_prediction_test)\n",
        "import seaborn as sn\n",
        "plt.figure(figsize=(8,6))\n",
        "fg=sn.heatmap(cm,annot=True,cmap='Blues')\n",
        "figure = fg.get_figure()\n",
        "plt.xlabel(\"Predicted\")\n",
        "plt.ylabel(\"Truth\")"
      ],
      "execution_count": null,
      "outputs": [
        {
          "output_type": "execute_result",
          "data": {
            "text/plain": [
              "Text(51.0, 0.5, 'Truth')"
            ]
          },
          "metadata": {
            "tags": []
          },
          "execution_count": 196
        },
        {
          "output_type": "display_data",
          "data": {
            "image/png": "[encoded data removed]",
            "text/plain": [
              "<Figure size 576x432 with 2 Axes>"
            ]
          },
          "metadata": {
            "tags": [],
            "needs_background": "light"
          }
        }
      ]
    },
    {
      "cell_type": "code",
      "metadata": {
        "colab": {
          "base_uri": "https://localhost:8080/"
        },
        "id": "ug_7EQYJFQIp",
        "outputId": "2ce96d18-856d-4e6c-ca88-ecb40986e059"
      },
      "source": [
        "#Accuracy\n",
        "from sklearn.metrics import accuracy_score\n",
        "accuracy = accuracy_score(y_test,dt_prediction_test)*100\n",
        "print(f'model accuracy is : {accuracy.round()} %')"
      ],
      "execution_count": 101,
      "outputs": [
        {
          "output_type": "stream",
          "text": [
            "model accuracy is : 88.0 %\n"
          ],
          "name": "stdout"
        }
      ]
    },
    {
      "cell_type": "code",
      "metadata": {
        "colab": {
          "base_uri": "https://localhost:8080/"
        },
        "id": "UzQccJci9615",
        "outputId": "eb3484c7-aa9b-4fae-bd7f-d296644ea927"
      },
      "source": [
        "#f1, precesion, recall\n",
        "from sklearn.metrics import f1_score\n",
        "score = f1_score(y_test,dt_prediction_test, average='binary')\n",
        "print('F-Measure for Decision Tree : %.3f' % score)\n",
        "\n",
        "from sklearn.metrics import recall_score\n",
        "recall = recall_score(y_test,dt_prediction_test, average='binary')\n",
        "print('Recall for Decision Tree: %.3f' % recall)\n",
        "\n",
        "\n",
        "from sklearn.metrics import precision_score\n",
        "precision = precision_score(y_test,dt_prediction_test, average='binary')\n",
        "print('Precision for Decision Tree: %.3f' % precision)"
      ],
      "execution_count": 102,
      "outputs": [
        {
          "output_type": "stream",
          "text": [
            "F-Measure for Decision Tree : 0.921\n",
            "Recall for Decision Tree: 0.932\n",
            "Precision for Decision Tree: 0.911\n"
          ],
          "name": "stdout"
        }
      ]
    },
    {
      "cell_type": "code",
      "metadata": {
        "colab": {
          "base_uri": "https://localhost:8080/"
        },
        "id": "b7Zh2raXp4Av",
        "outputId": "13897e7d-5ca3-4e9a-eba7-4e722e368467"
      },
      "source": [
        "#CV method\n",
        "\n",
        "#CV method\n",
        "dt = DecisionTreeClassifier()\n",
        "scores = cross_val_score(dt, X, y , cv = 10, scoring= 'accuracy')\n",
        "print(scores)\n",
        "print(scores.mean())"
      ],
      "execution_count": null,
      "outputs": [
        {
          "output_type": "stream",
          "text": [
            "[0.95       0.9        0.8        0.9        0.9        0.78947368\n",
            " 0.68421053 0.52631579 0.73684211 0.84210526]\n",
            "0.8028947368421054\n"
          ],
          "name": "stdout"
        }
      ]
    },
    {
      "cell_type": "markdown",
      "metadata": {
        "id": "ss7v-HXlnWib"
      },
      "source": [
        "#Random Forest"
      ]
    },
    {
      "cell_type": "code",
      "metadata": {
        "id": "f5-UB43VnYSx"
      },
      "source": [
        "from sklearn.ensemble import RandomForestClassifier\n",
        "X = ParkinsonDataset.drop('status',axis=1)\n",
        "y = ParkinsonDataset['status']\n",
        "X_train, X_test, y_train, y_test = train_test_split(X, y, test_size=0.30, random_state=42)"
      ],
      "execution_count": 85,
      "outputs": []
    },
    {
      "cell_type": "code",
      "metadata": {
        "id": "dGa5B81yqWLh"
      },
      "source": [
        "rf = RandomForestClassifier()"
      ],
      "execution_count": 86,
      "outputs": []
    },
    {
      "cell_type": "code",
      "metadata": {
        "colab": {
          "base_uri": "https://localhost:8080/"
        },
        "id": "zJZCy8puqY50",
        "outputId": "3bc87e5e-f8a4-4abc-bf79-f745dd7f5f3f"
      },
      "source": [
        "rf.fit(X_train,y_train)"
      ],
      "execution_count": 87,
      "outputs": [
        {
          "output_type": "execute_result",
          "data": {
            "text/plain": [
              "RandomForestClassifier(bootstrap=True, ccp_alpha=0.0, class_weight=None,\n",
              "                       criterion='gini', max_depth=None, max_features='auto',\n",
              "                       max_leaf_nodes=None, max_samples=None,\n",
              "                       min_impurity_decrease=0.0, min_impurity_split=None,\n",
              "                       min_samples_leaf=1, min_samples_split=2,\n",
              "                       min_weight_fraction_leaf=0.0, n_estimators=100,\n",
              "                       n_jobs=None, oob_score=False, random_state=None,\n",
              "                       verbose=0, warm_start=False)"
            ]
          },
          "metadata": {
            "tags": []
          },
          "execution_count": 87
        }
      ]
    },
    {
      "cell_type": "code",
      "metadata": {
        "colab": {
          "base_uri": "https://localhost:8080/"
        },
        "id": "6_RwshnKqhzP",
        "outputId": "1f95c0b5-fd34-434a-cdfc-14dcc826b3ca"
      },
      "source": [
        "\n",
        "rf_prediction_train = rf.predict(X_train)\n",
        "print(rf_prediction_train)"
      ],
      "execution_count": 88,
      "outputs": [
        {
          "output_type": "stream",
          "text": [
            "[1 0 0 1 1 1 1 1 1 1 0 1 1 0 1 1 1 1 0 1 1 1 0 1 1 1 1 1 1 1 0 1 1 1 1 1 0\n",
            " 1 1 1 0 1 1 1 0 0 1 1 1 1 1 0 1 1 1 1 1 1 1 1 1 0 1 1 1 0 1 0 1 1 0 1 1 1\n",
            " 0 1 0 1 1 0 1 0 1 1 1 1 0 0 1 1 1 1 0 1 1 1 0 1 1 1 0 1 1 0 0 1 0 1 1 1 1\n",
            " 0 1 1 1 0 1 0 1 1 1 1 1 1 1 1 1 0 1 0 1 1 1 1 1 1]\n"
          ],
          "name": "stdout"
        }
      ]
    },
    {
      "cell_type": "code",
      "metadata": {
        "colab": {
          "base_uri": "https://localhost:8080/"
        },
        "id": "NxdVSAmMqp_5",
        "outputId": "7abfe2e9-b811-4462-a412-c105a1ab9538"
      },
      "source": [
        "#classification Report\n",
        "print('Classification report')\n",
        "print(classification_report(y_train,rf_prediction_train))\n",
        "print('\\n')\n",
        "print('Confusion matrix')\n",
        "print(confusion_matrix(y_train,rf_prediction_train))"
      ],
      "execution_count": 89,
      "outputs": [
        {
          "output_type": "stream",
          "text": [
            "Classification report\n",
            "              precision    recall  f1-score   support\n",
            "\n",
            "           0       1.00      1.00      1.00        33\n",
            "           1       1.00      1.00      1.00       103\n",
            "\n",
            "    accuracy                           1.00       136\n",
            "   macro avg       1.00      1.00      1.00       136\n",
            "weighted avg       1.00      1.00      1.00       136\n",
            "\n",
            "\n",
            "\n",
            "Confusion matrix\n",
            "[[ 33   0]\n",
            " [  0 103]]\n"
          ],
          "name": "stdout"
        }
      ]
    },
    {
      "cell_type": "code",
      "metadata": {
        "colab": {
          "base_uri": "https://localhost:8080/"
        },
        "id": "hKUSfS9IrFus",
        "outputId": "f998e585-37ba-42c7-b246-8ca71abdf051"
      },
      "source": [
        "rf_prediction_test = rf.predict(X_test)\n",
        "print(rf_prediction_test)"
      ],
      "execution_count": 90,
      "outputs": [
        {
          "output_type": "stream",
          "text": [
            "[1 1 1 1 1 1 1 1 1 1 1 1 1 1 1 1 1 1 0 1 1 1 1 0 1 1 1 1 0 1 1 1 1 0 1 0 1\n",
            " 1 1 1 1 1 0 1 1 1 0 1 0 0 1 1 1 1 1 1 0 0 0]\n"
          ],
          "name": "stdout"
        }
      ]
    },
    {
      "cell_type": "code",
      "metadata": {
        "colab": {
          "base_uri": "https://localhost:8080/"
        },
        "id": "e5e5_dVjrTRk",
        "outputId": "d4fdb42b-84d6-4a86-ad78-c3c6ea75e647"
      },
      "source": [
        "#classification Report\n",
        "print('Classification report')\n",
        "print(classification_report(y_test,rf_prediction_test))\n",
        "print('\\n')\n",
        "print('Confission matrix')\n",
        "print(confusion_matrix(y_test,rf_prediction_test))"
      ],
      "execution_count": 91,
      "outputs": [
        {
          "output_type": "stream",
          "text": [
            "Classification report\n",
            "              precision    recall  f1-score   support\n",
            "\n",
            "           0       1.00      0.80      0.89        15\n",
            "           1       0.94      1.00      0.97        44\n",
            "\n",
            "    accuracy                           0.95        59\n",
            "   macro avg       0.97      0.90      0.93        59\n",
            "weighted avg       0.95      0.95      0.95        59\n",
            "\n",
            "\n",
            "\n",
            "Confission matrix\n",
            "[[12  3]\n",
            " [ 0 44]]\n"
          ],
          "name": "stdout"
        }
      ]
    },
    {
      "cell_type": "code",
      "metadata": {
        "colab": {
          "base_uri": "https://localhost:8080/",
          "height": 405
        },
        "id": "YT4Z92ytsaBy",
        "outputId": "37bafb14-e682-4f5a-b9bf-099fadb8126a"
      },
      "source": [
        "#Confusion Matrix\n",
        "import matplotlib.pyplot as plt\n",
        "cm=confusion_matrix(y_test,rf_prediction_test)\n",
        "import seaborn as sn\n",
        "plt.figure(figsize=(8,6))\n",
        "fg=sn.heatmap(cm,annot=True,cmap='Blues')\n",
        "figure = fg.get_figure()\n",
        "plt.xlabel(\"Predicted\")\n",
        "plt.ylabel(\"Truth\")"
      ],
      "execution_count": null,
      "outputs": [
        {
          "output_type": "execute_result",
          "data": {
            "text/plain": [
              "Text(51.0, 0.5, 'Truth')"
            ]
          },
          "metadata": {
            "tags": []
          },
          "execution_count": 72
        },
        {
          "output_type": "display_data",
          "data": {
            "image/png": "[encoded data removed]",
            "text/plain": [
              "<Figure size 576x432 with 2 Axes>"
            ]
          },
          "metadata": {
            "tags": [],
            "needs_background": "light"
          }
        }
      ]
    },
    {
      "cell_type": "code",
      "metadata": {
        "colab": {
          "base_uri": "https://localhost:8080/"
        },
        "id": "Y-o807teU-Fb",
        "outputId": "dcfa68d9-0314-45d7-a836-62c84f1ecced"
      },
      "source": [
        "#Accuracy\n",
        "from sklearn.metrics import accuracy_score\n",
        "accuracy = accuracy_score(y_test,rf_prediction_test)*100\n",
        "print(f'model accuracy is : {accuracy.round()} %')"
      ],
      "execution_count": 92,
      "outputs": [
        {
          "output_type": "stream",
          "text": [
            "model accuracy is : 95.0 %\n"
          ],
          "name": "stdout"
        }
      ]
    },
    {
      "cell_type": "code",
      "metadata": {
        "colab": {
          "base_uri": "https://localhost:8080/"
        },
        "id": "hTcWwWf598zu",
        "outputId": "f5580d07-4eaa-4966-bce8-2d01f66e1a20"
      },
      "source": [
        "#f1, precesion, recall\n",
        "from sklearn.metrics import f1_score\n",
        "score = f1_score(y_test,rf_prediction_test, average='binary')\n",
        "print('F-Measure for Random Forest : %.3f' % score)\n",
        "\n",
        "from sklearn.metrics import recall_score\n",
        "recall = recall_score(y_test,rf_prediction_test, average='binary')\n",
        "print('Recall for Random Forest: %.3f' % recall)\n",
        "\n",
        "\n",
        "from sklearn.metrics import precision_score\n",
        "precision = precision_score(y_test,rf_prediction_test, average='binary')\n",
        "print('Precision for Random Forest: %.3f' % precision)"
      ],
      "execution_count": 93,
      "outputs": [
        {
          "output_type": "stream",
          "text": [
            "F-Measure for Random Forest : 0.967\n",
            "Recall for Random Forest: 1.000\n",
            "Precision for Random Forest: 0.936\n"
          ],
          "name": "stdout"
        }
      ]
    },
    {
      "cell_type": "code",
      "metadata": {
        "colab": {
          "base_uri": "https://localhost:8080/"
        },
        "id": "bKm2IduKtPvt",
        "outputId": "52d90261-78e8-480d-a23a-2e9ee05938e5"
      },
      "source": [
        "#CV method\n",
        "rf = RandomForestClassifier()\n",
        "scores = cross_val_score(rf, X, y , cv = 10, scoring= 'accuracy')\n",
        "print(scores)\n",
        "print(scores.mean())"
      ],
      "execution_count": null,
      "outputs": [
        {
          "output_type": "stream",
          "text": [
            "[0.8        1.         0.9        0.95       1.         0.84210526\n",
            " 0.89473684 0.78947368 0.78947368 0.73684211]\n",
            "0.8702631578947368\n"
          ],
          "name": "stdout"
        }
      ]
    },
    {
      "cell_type": "markdown",
      "metadata": {
        "id": "6_dOuxJLtlRp"
      },
      "source": [
        "#XGBOOST"
      ]
    },
    {
      "cell_type": "code",
      "metadata": {
        "id": "lQTfOvwWtq6Q"
      },
      "source": [
        "from xgboost import XGBClassifier\n",
        "X = ParkinsonDataset.drop('status',axis=1)\n",
        "y = ParkinsonDataset['status']\n",
        "X_train, X_test, y_train, y_test = train_test_split(X, y, test_size=0.30, random_state=42)\n",
        "modelXG=XGBClassifier()"
      ],
      "execution_count": 78,
      "outputs": []
    },
    {
      "cell_type": "code",
      "metadata": {
        "colab": {
          "base_uri": "https://localhost:8080/"
        },
        "id": "0MosbpWLVZqf",
        "outputId": "d7f43f8f-0b75-4832-d1ed-8aedf619bcd1"
      },
      "source": [
        "modelXG.fit(X_train,y_train)\n",
        "xg_prediction_Train = modelXG.predict(X_train)\n",
        "print(xg_prediction_Train)\n"
      ],
      "execution_count": 79,
      "outputs": [
        {
          "output_type": "stream",
          "text": [
            "[1 0 0 1 1 1 1 1 1 1 0 1 1 0 1 1 1 1 0 1 1 1 0 1 1 1 1 1 1 1 0 1 1 1 1 1 0\n",
            " 1 1 1 0 1 1 1 0 0 1 1 1 1 1 0 1 1 1 1 1 1 1 1 1 0 1 1 1 0 1 0 1 1 0 1 1 1\n",
            " 0 1 0 1 1 0 1 0 1 1 1 1 0 0 1 1 1 1 0 1 1 1 0 1 1 1 0 1 1 0 0 1 0 1 1 1 1\n",
            " 0 1 1 1 0 1 0 1 1 1 1 1 1 1 1 1 0 1 0 1 1 1 1 1 1]\n"
          ],
          "name": "stdout"
        }
      ]
    },
    {
      "cell_type": "code",
      "metadata": {
        "colab": {
          "base_uri": "https://localhost:8080/"
        },
        "id": "cYW057v2WMVm",
        "outputId": "2b9ffa5b-c726-4e5a-a824-ef5b4718f7eb"
      },
      "source": [
        "#classification Report\n",
        "print('Classification report')\n",
        "print(classification_report(y_train,xg_prediction_Train))\n",
        "print('\\n')\n",
        "print('Confusion matrix')\n",
        "print(confusion_matrix(y_train,xg_prediction_Train))"
      ],
      "execution_count": 80,
      "outputs": [
        {
          "output_type": "stream",
          "text": [
            "Classification report\n",
            "              precision    recall  f1-score   support\n",
            "\n",
            "           0       1.00      1.00      1.00        33\n",
            "           1       1.00      1.00      1.00       103\n",
            "\n",
            "    accuracy                           1.00       136\n",
            "   macro avg       1.00      1.00      1.00       136\n",
            "weighted avg       1.00      1.00      1.00       136\n",
            "\n",
            "\n",
            "\n",
            "Confusion matrix\n",
            "[[ 33   0]\n",
            " [  0 103]]\n"
          ],
          "name": "stdout"
        }
      ]
    },
    {
      "cell_type": "code",
      "metadata": {
        "colab": {
          "base_uri": "https://localhost:8080/"
        },
        "id": "4fL6fiRWWTef",
        "outputId": "5fd2629f-3311-4017-ceb6-4715731ab656"
      },
      "source": [
        "XG_prediction_test = modelXG.predict(X_test)\n",
        "print(XG_prediction_test)"
      ],
      "execution_count": 81,
      "outputs": [
        {
          "output_type": "stream",
          "text": [
            "[1 1 1 1 1 1 1 1 1 1 1 1 1 1 1 1 1 1 1 1 1 1 1 0 1 1 1 1 0 1 1 1 1 0 1 0 1\n",
            " 1 1 1 1 1 0 1 1 1 0 1 0 0 1 1 1 1 1 1 0 0 0]\n"
          ],
          "name": "stdout"
        }
      ]
    },
    {
      "cell_type": "code",
      "metadata": {
        "id": "tS6mk5CQWs3L"
      },
      "source": [
        "print('Classification report')\n",
        "print(classification_report(y_test,XG_prediction_test))\n",
        "print('\\n')\n",
        "print('Confusion matrix')\n",
        "print(confusion_matrix(y_test,XG_prediction_test))"
      ],
      "execution_count": 81,
      "outputs": []
    },
    {
      "cell_type": "code",
      "metadata": {
        "colab": {
          "base_uri": "https://localhost:8080/",
          "height": 403
        },
        "id": "lsqco8YNW9L9",
        "outputId": "e88a58c3-51fc-408b-c020-51cd940c1829"
      },
      "source": [
        "#Confusion Matrix\n",
        "import matplotlib.pyplot as plt\n",
        "cm=confusion_matrix(y_test,XG_prediction_test)\n",
        "import seaborn as sn\n",
        "plt.figure(figsize=(8,6))\n",
        "fg=sn.heatmap(cm,annot=True,cmap='Blues')\n",
        "figure = fg.get_figure()\n",
        "plt.xlabel(\"Predicted\")\n",
        "plt.ylabel(\"Truth\")"
      ],
      "execution_count": 82,
      "outputs": [
        {
          "output_type": "execute_result",
          "data": {
            "text/plain": [
              "Text(51.0, 0.5, 'Truth')"
            ]
          },
          "metadata": {
            "tags": []
          },
          "execution_count": 82
        },
        {
          "output_type": "display_data",
          "data": {
            "image/png": "[encoded data removed]",
            "text/plain": [
              "<Figure size 576x432 with 2 Axes>"
            ]
          },
          "metadata": {
            "tags": [],
            "needs_background": "light"
          }
        }
      ]
    },
    {
      "cell_type": "code",
      "metadata": {
        "colab": {
          "base_uri": "https://localhost:8080/"
        },
        "id": "rFV10HUDdnFP",
        "outputId": "57cd4e37-d158-4036-9f6c-3c9e4d43f83e"
      },
      "source": [
        "#Accuracy\n",
        "from sklearn.metrics import accuracy_score\n",
        "accuracy = accuracy_score(y_test,XG_prediction_test)*100\n",
        "print(f'model accuracy is : {accuracy.round()} %')\n",
        "\n",
        "from sklearn.metrics import mean_squared_error\n",
        "rmse = np.sqrt(mean_squared_error(y_test,XG_prediction_test))\n",
        "print(\"RMSE: %f\" % (rmse))"
      ],
      "execution_count": 83,
      "outputs": [
        {
          "output_type": "stream",
          "text": [
            "model accuracy is : 93.0 %\n",
            "RMSE: 0.260378\n"
          ],
          "name": "stdout"
        }
      ]
    },
    {
      "cell_type": "code",
      "metadata": {
        "colab": {
          "base_uri": "https://localhost:8080/"
        },
        "id": "Jadfkxi69-jS",
        "outputId": "b1ccbb73-5637-470d-d55f-85344ab9e53c"
      },
      "source": [
        "#f1, precesion, recall\n",
        "from sklearn.metrics import f1_score\n",
        "score = f1_score(y_test,XG_prediction_test, average='binary')\n",
        "print('F-Measure for XGBOOST : %.3f' % score)\n",
        "\n",
        "from sklearn.metrics import recall_score\n",
        "recall = recall_score(y_test,XG_prediction_test, average='binary')\n",
        "print('Recall for XGBOOST: %.3f' % recall)\n",
        "\n",
        "\n",
        "from sklearn.metrics import precision_score\n",
        "precision = precision_score(y_test,XG_prediction_test, average='binary')\n",
        "print('Precision for XGBOOST: %.3f' % precision)"
      ],
      "execution_count": 84,
      "outputs": [
        {
          "output_type": "stream",
          "text": [
            "F-Measure for XGBOOST : 0.957\n",
            "Recall for XGBOOST: 1.000\n",
            "Precision for XGBOOST: 0.917\n"
          ],
          "name": "stdout"
        }
      ]
    },
    {
      "cell_type": "code",
      "metadata": {
        "colab": {
          "base_uri": "https://localhost:8080/"
        },
        "id": "3pe_bJGQZEvc",
        "outputId": "2848bf23-1e67-459c-947b-fba01a71ebd6"
      },
      "source": [
        "#CV method\n",
        "modelXG.fit(X_train,y_train)\n",
        "scores = cross_val_score(modelXG, X, y , cv = 10, scoring= 'accuracy')\n",
        "print(scores)\n",
        "print(scores.mean())"
      ],
      "execution_count": null,
      "outputs": [
        {
          "output_type": "stream",
          "text": [
            "[0.85       1.         0.85       0.9        1.         0.84210526\n",
            " 0.94736842 0.78947368 0.84210526 0.89473684]\n",
            "0.891578947368421\n"
          ],
          "name": "stdout"
        }
      ]
    }
  ]
}